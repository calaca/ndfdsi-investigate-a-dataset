{
 "cells": [
  {
   "cell_type": "markdown",
   "metadata": {},
   "source": [
    "# Investigando um conjunto de dados: RMS Titanic\n",
    "\n",
    "O [RMS Titanic](https://pt.wikipedia.org/wiki/RMS_Titanic) foi um navio de passageiros construído em 1911 pela companhia britânica de transportes [White Star Line](https://pt.wikipedia.org/wiki/White_Star_Line), projetado para ser extremanente seguro e luxuoso.\n",
    "Em 1912 o navio saiu de  Southampton para Nova Iorque, passando por Cherbourg na França e Queenstown na Irlanda. Porém o navio colidiu com um iceberg durante a viagem e acabou naufragando no oceano Atlântico. Estima-se que 1500 pessoas estavam a bordo no momento do acidente.\n",
    "\n",
    "## Origem do conjunto de dados\n",
    "\n",
    "Este conjunto de dados pode ser encontrado na [Kaggle](https://www.kaggle.com/c/titanic/data) (uma comunidade online para cientistas de dados) e faz parte do projeto final do [Nanodegree de Fundamentos de Data Science I](https://br.udacity.com/course/python-fundamentos-data-science--nd110) da [Udacity](https://br.udacity.com). Temos aqui dados demográficos sobre 891 passageiros que estavam a bordo do navio RMS Titanic no momento do desastre marítimo. Com base nestes dados, levantarei algumas perguntas e suas respecitivas respostas.\n",
    "\n",
    "## Sobre os dados disponíveis\n",
    "\n",
    "Segue uma breve descrição de cada coluna do conjunto de dados:\n",
    "- **PassengerId**: identificador único do passageiro\n",
    "- **Survived**: indicador de sobrevivência\n",
    "- **Pclass**: status socioeconômico (1 = alto, 2 = médio, 3 = baixo)\n",
    "- **Name**: nome do passageiro\n",
    "- **Sex**: sexo do passageiro\n",
    "- **Age**: idade do passageiro (a idade é fracionária se menor que 1. Se a idade é estimada, está no formato xx.5)\n",
    "- **SibSp**: número de irmãos e cônjuges abordo\n",
    "- **Parch**: número de pais/filhos abordo\n",
    "- **Ticket**: número da passagem\n",
    "- **Fare**: taxa do passageiro\n",
    "- **Cabin**: número da cabine\n",
    "- **Embarked**: local de embarque\n",
    "\n",
    "## Lista de perguntas\n",
    "\n",
    "1. Quantos passageiros embarcaram por porto?\n",
    "2. Quantas pessoas sobreviveram ao naufrágio?\n",
    "3. Quantos sobreviventes são do sexo masculino? Quantos são do sexo feminino?\n",
    "4. Qual a taxa de sobreviventes por status socioeconômico?\n",
    "5. Qual era a tarifa mais cara? Qual era a mais barata? Qual era a média de tarifas?\n",
    "6. Qual é a média de idade dos sobreviventes?\n",
    "7. Qual o valor médio da tarifa para cada classe?\n",
    "8. Qual a média de idade das mulheres em cada classe do navio?\n",
    "9. Qual a média de idade dos homens em cada classe do navio?\n",
    "10. Quantos passageiros viajavam desacompanhados de membros da família?\n",
    "\n",
    "## Índice\n",
    "\n",
    "- [Breve análise dos dados](#Breve-análise-dos-dados)\n",
    "- [Limpeza de dados](#Limpeza-de-dados)\n",
    "- [Perguntas e respostas](#Perguntas-e-respostas)\n",
    "- [Conclusão](#Conclusão)\n",
    "- [Limitações](#Limitações)"
   ]
  },
  {
   "cell_type": "markdown",
   "metadata": {},
   "source": [
    "## Breve análise dos dados"
   ]
  },
  {
   "cell_type": "code",
   "execution_count": 179,
   "metadata": {},
   "outputs": [
    {
     "data": {
      "text/html": [
       "<div>\n",
       "<style scoped>\n",
       "    .dataframe tbody tr th:only-of-type {\n",
       "        vertical-align: middle;\n",
       "    }\n",
       "\n",
       "    .dataframe tbody tr th {\n",
       "        vertical-align: top;\n",
       "    }\n",
       "\n",
       "    .dataframe thead th {\n",
       "        text-align: right;\n",
       "    }\n",
       "</style>\n",
       "<table border=\"1\" class=\"dataframe\">\n",
       "  <thead>\n",
       "    <tr style=\"text-align: right;\">\n",
       "      <th></th>\n",
       "      <th>PassengerId</th>\n",
       "      <th>Survived</th>\n",
       "      <th>Pclass</th>\n",
       "      <th>Name</th>\n",
       "      <th>Sex</th>\n",
       "      <th>Age</th>\n",
       "      <th>SibSp</th>\n",
       "      <th>Parch</th>\n",
       "      <th>Ticket</th>\n",
       "      <th>Fare</th>\n",
       "      <th>Cabin</th>\n",
       "      <th>Embarked</th>\n",
       "    </tr>\n",
       "  </thead>\n",
       "  <tbody>\n",
       "    <tr>\n",
       "      <th>0</th>\n",
       "      <td>1</td>\n",
       "      <td>0</td>\n",
       "      <td>3</td>\n",
       "      <td>Braund, Mr. Owen Harris</td>\n",
       "      <td>male</td>\n",
       "      <td>22.0</td>\n",
       "      <td>1</td>\n",
       "      <td>0</td>\n",
       "      <td>A/5 21171</td>\n",
       "      <td>7.2500</td>\n",
       "      <td>NaN</td>\n",
       "      <td>S</td>\n",
       "    </tr>\n",
       "    <tr>\n",
       "      <th>1</th>\n",
       "      <td>2</td>\n",
       "      <td>1</td>\n",
       "      <td>1</td>\n",
       "      <td>Cumings, Mrs. John Bradley (Florence Briggs Th...</td>\n",
       "      <td>female</td>\n",
       "      <td>38.0</td>\n",
       "      <td>1</td>\n",
       "      <td>0</td>\n",
       "      <td>PC 17599</td>\n",
       "      <td>71.2833</td>\n",
       "      <td>C85</td>\n",
       "      <td>C</td>\n",
       "    </tr>\n",
       "    <tr>\n",
       "      <th>2</th>\n",
       "      <td>3</td>\n",
       "      <td>1</td>\n",
       "      <td>3</td>\n",
       "      <td>Heikkinen, Miss. Laina</td>\n",
       "      <td>female</td>\n",
       "      <td>26.0</td>\n",
       "      <td>0</td>\n",
       "      <td>0</td>\n",
       "      <td>STON/O2. 3101282</td>\n",
       "      <td>7.9250</td>\n",
       "      <td>NaN</td>\n",
       "      <td>S</td>\n",
       "    </tr>\n",
       "    <tr>\n",
       "      <th>3</th>\n",
       "      <td>4</td>\n",
       "      <td>1</td>\n",
       "      <td>1</td>\n",
       "      <td>Futrelle, Mrs. Jacques Heath (Lily May Peel)</td>\n",
       "      <td>female</td>\n",
       "      <td>35.0</td>\n",
       "      <td>1</td>\n",
       "      <td>0</td>\n",
       "      <td>113803</td>\n",
       "      <td>53.1000</td>\n",
       "      <td>C123</td>\n",
       "      <td>S</td>\n",
       "    </tr>\n",
       "    <tr>\n",
       "      <th>4</th>\n",
       "      <td>5</td>\n",
       "      <td>0</td>\n",
       "      <td>3</td>\n",
       "      <td>Allen, Mr. William Henry</td>\n",
       "      <td>male</td>\n",
       "      <td>35.0</td>\n",
       "      <td>0</td>\n",
       "      <td>0</td>\n",
       "      <td>373450</td>\n",
       "      <td>8.0500</td>\n",
       "      <td>NaN</td>\n",
       "      <td>S</td>\n",
       "    </tr>\n",
       "  </tbody>\n",
       "</table>\n",
       "</div>"
      ],
      "text/plain": [
       "   PassengerId  Survived  Pclass  \\\n",
       "0            1         0       3   \n",
       "1            2         1       1   \n",
       "2            3         1       3   \n",
       "3            4         1       1   \n",
       "4            5         0       3   \n",
       "\n",
       "                                                Name     Sex   Age  SibSp  \\\n",
       "0                            Braund, Mr. Owen Harris    male  22.0      1   \n",
       "1  Cumings, Mrs. John Bradley (Florence Briggs Th...  female  38.0      1   \n",
       "2                             Heikkinen, Miss. Laina  female  26.0      0   \n",
       "3       Futrelle, Mrs. Jacques Heath (Lily May Peel)  female  35.0      1   \n",
       "4                           Allen, Mr. William Henry    male  35.0      0   \n",
       "\n",
       "   Parch            Ticket     Fare Cabin Embarked  \n",
       "0      0         A/5 21171   7.2500   NaN        S  \n",
       "1      0          PC 17599  71.2833   C85        C  \n",
       "2      0  STON/O2. 3101282   7.9250   NaN        S  \n",
       "3      0            113803  53.1000  C123        S  \n",
       "4      0            373450   8.0500   NaN        S  "
      ]
     },
     "execution_count": 179,
     "metadata": {},
     "output_type": "execute_result"
    }
   ],
   "source": [
    "%matplotlib inline\n",
    "\n",
    "import numpy as np\n",
    "import pandas as pd\n",
    "import matplotlib.pyplot as plt\n",
    "\n",
    "df = pd.read_csv('titanic-data-6.csv')\n",
    "\n",
    "df.head()"
   ]
  },
  {
   "cell_type": "markdown",
   "metadata": {},
   "source": [
    "### Informações gerais\n",
    "Nota-se que temos 891 dados sobre passageiros e 12 colunas no conjunto de dados, bem como alguns valores nulos para as colunas \"age\", \"cabin\" e \"embarked\"."
   ]
  },
  {
   "cell_type": "code",
   "execution_count": 180,
   "metadata": {},
   "outputs": [
    {
     "name": "stdout",
     "output_type": "stream",
     "text": [
      "<class 'pandas.core.frame.DataFrame'>\n",
      "RangeIndex: 891 entries, 0 to 890\n",
      "Data columns (total 12 columns):\n",
      "PassengerId    891 non-null int64\n",
      "Survived       891 non-null int64\n",
      "Pclass         891 non-null int64\n",
      "Name           891 non-null object\n",
      "Sex            891 non-null object\n",
      "Age            714 non-null float64\n",
      "SibSp          891 non-null int64\n",
      "Parch          891 non-null int64\n",
      "Ticket         891 non-null object\n",
      "Fare           891 non-null float64\n",
      "Cabin          204 non-null object\n",
      "Embarked       889 non-null object\n",
      "dtypes: float64(2), int64(5), object(5)\n",
      "memory usage: 83.6+ KB\n"
     ]
    }
   ],
   "source": [
    "df.info()"
   ]
  },
  {
   "cell_type": "markdown",
   "metadata": {},
   "source": [
    "### Tipos de dados de cada coluna\n",
    "Nota-se que não é necessário fazer nenhuma mudança nos tipos de dados das colunas, pois já possuem um tipo apropriado para o dado que armazenam."
   ]
  },
  {
   "cell_type": "code",
   "execution_count": 181,
   "metadata": {},
   "outputs": [
    {
     "data": {
      "text/plain": [
       "PassengerId      int64\n",
       "Survived         int64\n",
       "Pclass           int64\n",
       "Name            object\n",
       "Sex             object\n",
       "Age            float64\n",
       "SibSp            int64\n",
       "Parch            int64\n",
       "Ticket          object\n",
       "Fare           float64\n",
       "Cabin           object\n",
       "Embarked        object\n",
       "dtype: object"
      ]
     },
     "execution_count": 181,
     "metadata": {},
     "output_type": "execute_result"
    }
   ],
   "source": [
    "df.dtypes"
   ]
  },
  {
   "cell_type": "markdown",
   "metadata": {},
   "source": [
    "## Limpeza de dados"
   ]
  },
  {
   "cell_type": "markdown",
   "metadata": {},
   "source": [
    "### Renomear as colunas para o padrão snake case"
   ]
  },
  {
   "cell_type": "markdown",
   "metadata": {},
   "source": [
    "Lista de colunas atuais:"
   ]
  },
  {
   "cell_type": "code",
   "execution_count": 182,
   "metadata": {},
   "outputs": [
    {
     "data": {
      "text/plain": [
       "['PassengerId',\n",
       " 'Survived',\n",
       " 'Pclass',\n",
       " 'Name',\n",
       " 'Sex',\n",
       " 'Age',\n",
       " 'SibSp',\n",
       " 'Parch',\n",
       " 'Ticket',\n",
       " 'Fare',\n",
       " 'Cabin',\n",
       " 'Embarked']"
      ]
     },
     "execution_count": 182,
     "metadata": {},
     "output_type": "execute_result"
    }
   ],
   "source": [
    "list(df)"
   ]
  },
  {
   "cell_type": "markdown",
   "metadata": {},
   "source": [
    "Renomeando as colunas para o padrão snake case:"
   ]
  },
  {
   "cell_type": "code",
   "execution_count": 183,
   "metadata": {},
   "outputs": [
    {
     "data": {
      "text/plain": [
       "['passenger_id',\n",
       " 'survived',\n",
       " 'p_class',\n",
       " 'name',\n",
       " 'sex',\n",
       " 'age',\n",
       " 'sib_sp',\n",
       " 'parch',\n",
       " 'ticket',\n",
       " 'fare',\n",
       " 'cabin',\n",
       " 'embarked']"
      ]
     },
     "execution_count": 183,
     "metadata": {},
     "output_type": "execute_result"
    }
   ],
   "source": [
    "df.rename(columns={'PassengerId': 'passenger_id', 'Survived': 'survived', 'Pclass': 'p_class', 'Name': 'name', 'Sex': 'sex', 'SibSp': 'sib_sp', 'Age': 'age', 'Parch': 'parch', 'Ticket': 'ticket', 'Fare': 'fare', 'Cabin': 'cabin', 'Embarked': 'embarked'}, inplace=True)\n",
    "list(df)"
   ]
  },
  {
   "cell_type": "code",
   "execution_count": 184,
   "metadata": {},
   "outputs": [
    {
     "name": "stdout",
     "output_type": "stream",
     "text": [
      "O conjunto de dados possui 891 linhas e 12 colunas.\n"
     ]
    }
   ],
   "source": [
    "df_dimensions = df.shape\n",
    "print('O conjunto de dados possui {} linhas e {} colunas.'.format(df_dimensions[0], df_dimensions[1]))"
   ]
  },
  {
   "cell_type": "markdown",
   "metadata": {},
   "source": [
    "### Verificar e limpar valores nulos/faltantes"
   ]
  },
  {
   "cell_type": "code",
   "execution_count": 185,
   "metadata": {},
   "outputs": [
    {
     "data": {
      "text/plain": [
       "passenger_id    False\n",
       "survived        False\n",
       "p_class         False\n",
       "name            False\n",
       "sex             False\n",
       "age              True\n",
       "sib_sp          False\n",
       "parch           False\n",
       "ticket          False\n",
       "fare            False\n",
       "cabin            True\n",
       "embarked         True\n",
       "dtype: bool"
      ]
     },
     "execution_count": 185,
     "metadata": {},
     "output_type": "execute_result"
    }
   ],
   "source": [
    "df.isnull().any()"
   ]
  },
  {
   "cell_type": "markdown",
   "metadata": {},
   "source": [
    "Conforme os dados acina, pode-se observar que as colunas \"age\", \"cabin\" e \"embarked\" possuem valores nulos, portanto precisamos removê-los."
   ]
  },
  {
   "cell_type": "code",
   "execution_count": 186,
   "metadata": {},
   "outputs": [
    {
     "data": {
      "text/plain": [
       "False"
      ]
     },
     "execution_count": 186,
     "metadata": {},
     "output_type": "execute_result"
    }
   ],
   "source": [
    "df.dropna(inplace=True, how='any')\n",
    "df.isnull().sum().any()"
   ]
  },
  {
   "cell_type": "markdown",
   "metadata": {},
   "source": [
    "Como indicado acima, não existe mais nenhum valor nulo no conjunto de dados."
   ]
  },
  {
   "cell_type": "markdown",
   "metadata": {},
   "source": [
    "### Verificar e limpar valores duplicados"
   ]
  },
  {
   "cell_type": "code",
   "execution_count": 187,
   "metadata": {},
   "outputs": [
    {
     "name": "stdout",
     "output_type": "stream",
     "text": [
      "Existem 0 valores duplicados neste conjunto de dados.\n"
     ]
    }
   ],
   "source": [
    "duplicated = df.duplicated().sum()\n",
    "print('Existem {} valores duplicados neste conjunto de dados.'.format(duplicated))"
   ]
  },
  {
   "cell_type": "markdown",
   "metadata": {},
   "source": [
    "Como não existem valores duplicados, não há necessidade de limpá-los."
   ]
  },
  {
   "cell_type": "markdown",
   "metadata": {},
   "source": [
    "### Assinalar valores mais legíveis para as colunas \"survived\" e \"embarked\""
   ]
  },
  {
   "cell_type": "markdown",
   "metadata": {},
   "source": [
    "#### Coluna \"survived\"\n",
    "Trocaremos os valores 1 e 0 por \"yes\" e \"no\", respectivamente."
   ]
  },
  {
   "cell_type": "code",
   "execution_count": 188,
   "metadata": {},
   "outputs": [
    {
     "data": {
      "text/plain": [
       "array([1, 0])"
      ]
     },
     "execution_count": 188,
     "metadata": {},
     "output_type": "execute_result"
    }
   ],
   "source": [
    "df['survived'].unique()"
   ]
  },
  {
   "cell_type": "code",
   "execution_count": 189,
   "metadata": {},
   "outputs": [
    {
     "data": {
      "text/plain": [
       "array(['yes', 'no'], dtype=object)"
      ]
     },
     "execution_count": 189,
     "metadata": {},
     "output_type": "execute_result"
    }
   ],
   "source": [
    "df['survived'].replace([1, 0], ['yes', 'no'], inplace=True)\n",
    "df['survived'].unique()"
   ]
  },
  {
   "cell_type": "markdown",
   "metadata": {},
   "source": [
    "#### Coluna \"embarked\"\n",
    "Trocaremos as iniciais das cidades ponto de embarcação por seus nomes completos."
   ]
  },
  {
   "cell_type": "code",
   "execution_count": 190,
   "metadata": {},
   "outputs": [
    {
     "data": {
      "text/plain": [
       "array(['C', 'S', 'Q'], dtype=object)"
      ]
     },
     "execution_count": 190,
     "metadata": {},
     "output_type": "execute_result"
    }
   ],
   "source": [
    "df['embarked'].unique()"
   ]
  },
  {
   "cell_type": "code",
   "execution_count": 191,
   "metadata": {},
   "outputs": [
    {
     "data": {
      "text/plain": [
       "array(['Cherbourg', 'Southampton', 'Queenstown'], dtype=object)"
      ]
     },
     "execution_count": 191,
     "metadata": {},
     "output_type": "execute_result"
    }
   ],
   "source": [
    "df['embarked'].replace(['C', 'S', 'Q'], ['Cherbourg', 'Southampton', 'Queenstown'], inplace=True)\n",
    "df['embarked'].unique()"
   ]
  },
  {
   "cell_type": "markdown",
   "metadata": {},
   "source": [
    "### Criar coluna para parentes\n",
    "Para deixar os dados mais consistentes, vamos juntas as colunas \"sib_sp\" e \"parch\" em uma só coluna que represente o número de parentes que viajou junto com a pessoa."
   ]
  },
  {
   "cell_type": "code",
   "execution_count": 192,
   "metadata": {},
   "outputs": [],
   "source": [
    "relatives_column = df[['sib_sp', 'parch']].dot([1, 1])\n",
    "df['relatives'] = relatives_column\n",
    "df.drop(columns=['sib_sp', 'parch'], inplace=True)"
   ]
  },
  {
   "cell_type": "markdown",
   "metadata": {},
   "source": [
    "### Visão geral do conjunto de dados pós-limpeza"
   ]
  },
  {
   "cell_type": "code",
   "execution_count": 193,
   "metadata": {},
   "outputs": [
    {
     "data": {
      "text/html": [
       "<div>\n",
       "<style scoped>\n",
       "    .dataframe tbody tr th:only-of-type {\n",
       "        vertical-align: middle;\n",
       "    }\n",
       "\n",
       "    .dataframe tbody tr th {\n",
       "        vertical-align: top;\n",
       "    }\n",
       "\n",
       "    .dataframe thead th {\n",
       "        text-align: right;\n",
       "    }\n",
       "</style>\n",
       "<table border=\"1\" class=\"dataframe\">\n",
       "  <thead>\n",
       "    <tr style=\"text-align: right;\">\n",
       "      <th></th>\n",
       "      <th>passenger_id</th>\n",
       "      <th>survived</th>\n",
       "      <th>p_class</th>\n",
       "      <th>name</th>\n",
       "      <th>sex</th>\n",
       "      <th>age</th>\n",
       "      <th>ticket</th>\n",
       "      <th>fare</th>\n",
       "      <th>cabin</th>\n",
       "      <th>embarked</th>\n",
       "      <th>relatives</th>\n",
       "    </tr>\n",
       "  </thead>\n",
       "  <tbody>\n",
       "    <tr>\n",
       "      <th>1</th>\n",
       "      <td>2</td>\n",
       "      <td>yes</td>\n",
       "      <td>1</td>\n",
       "      <td>Cumings, Mrs. John Bradley (Florence Briggs Th...</td>\n",
       "      <td>female</td>\n",
       "      <td>38.0</td>\n",
       "      <td>PC 17599</td>\n",
       "      <td>71.2833</td>\n",
       "      <td>C85</td>\n",
       "      <td>Cherbourg</td>\n",
       "      <td>1</td>\n",
       "    </tr>\n",
       "    <tr>\n",
       "      <th>3</th>\n",
       "      <td>4</td>\n",
       "      <td>yes</td>\n",
       "      <td>1</td>\n",
       "      <td>Futrelle, Mrs. Jacques Heath (Lily May Peel)</td>\n",
       "      <td>female</td>\n",
       "      <td>35.0</td>\n",
       "      <td>113803</td>\n",
       "      <td>53.1000</td>\n",
       "      <td>C123</td>\n",
       "      <td>Southampton</td>\n",
       "      <td>1</td>\n",
       "    </tr>\n",
       "    <tr>\n",
       "      <th>6</th>\n",
       "      <td>7</td>\n",
       "      <td>no</td>\n",
       "      <td>1</td>\n",
       "      <td>McCarthy, Mr. Timothy J</td>\n",
       "      <td>male</td>\n",
       "      <td>54.0</td>\n",
       "      <td>17463</td>\n",
       "      <td>51.8625</td>\n",
       "      <td>E46</td>\n",
       "      <td>Southampton</td>\n",
       "      <td>0</td>\n",
       "    </tr>\n",
       "    <tr>\n",
       "      <th>10</th>\n",
       "      <td>11</td>\n",
       "      <td>yes</td>\n",
       "      <td>3</td>\n",
       "      <td>Sandstrom, Miss. Marguerite Rut</td>\n",
       "      <td>female</td>\n",
       "      <td>4.0</td>\n",
       "      <td>PP 9549</td>\n",
       "      <td>16.7000</td>\n",
       "      <td>G6</td>\n",
       "      <td>Southampton</td>\n",
       "      <td>2</td>\n",
       "    </tr>\n",
       "    <tr>\n",
       "      <th>11</th>\n",
       "      <td>12</td>\n",
       "      <td>yes</td>\n",
       "      <td>1</td>\n",
       "      <td>Bonnell, Miss. Elizabeth</td>\n",
       "      <td>female</td>\n",
       "      <td>58.0</td>\n",
       "      <td>113783</td>\n",
       "      <td>26.5500</td>\n",
       "      <td>C103</td>\n",
       "      <td>Southampton</td>\n",
       "      <td>0</td>\n",
       "    </tr>\n",
       "  </tbody>\n",
       "</table>\n",
       "</div>"
      ],
      "text/plain": [
       "    passenger_id survived  p_class  \\\n",
       "1              2      yes        1   \n",
       "3              4      yes        1   \n",
       "6              7       no        1   \n",
       "10            11      yes        3   \n",
       "11            12      yes        1   \n",
       "\n",
       "                                                 name     sex   age    ticket  \\\n",
       "1   Cumings, Mrs. John Bradley (Florence Briggs Th...  female  38.0  PC 17599   \n",
       "3        Futrelle, Mrs. Jacques Heath (Lily May Peel)  female  35.0    113803   \n",
       "6                             McCarthy, Mr. Timothy J    male  54.0     17463   \n",
       "10                    Sandstrom, Miss. Marguerite Rut  female   4.0   PP 9549   \n",
       "11                           Bonnell, Miss. Elizabeth  female  58.0    113783   \n",
       "\n",
       "       fare cabin     embarked  relatives  \n",
       "1   71.2833   C85    Cherbourg          1  \n",
       "3   53.1000  C123  Southampton          1  \n",
       "6   51.8625   E46  Southampton          0  \n",
       "10  16.7000    G6  Southampton          2  \n",
       "11  26.5500  C103  Southampton          0  "
      ]
     },
     "execution_count": 193,
     "metadata": {},
     "output_type": "execute_result"
    }
   ],
   "source": [
    "df.head()"
   ]
  },
  {
   "cell_type": "code",
   "execution_count": 194,
   "metadata": {},
   "outputs": [
    {
     "name": "stdout",
     "output_type": "stream",
     "text": [
      "O conjunto de dados possui 183 linhas e 11 colunas após a limpeza.\n"
     ]
    }
   ],
   "source": [
    "df_dimensions_clean = df.shape\n",
    "print('O conjunto de dados possui {} linhas e {} colunas após a limpeza.'.format(df_dimensions_clean[0], df_dimensions_clean[1]))"
   ]
  },
  {
   "cell_type": "markdown",
   "metadata": {},
   "source": [
    "## Perguntas e respostas"
   ]
  },
  {
   "cell_type": "code",
   "execution_count": 195,
   "metadata": {},
   "outputs": [],
   "source": [
    "def create_chart(c_type, c_data, c_labels, c_colors, c_title, c_x_label, c_y_label):\n",
    "    \"\"\"\n",
    "    Cria um gráfico conforme o tipo e dados informados.\n",
    "    Argumentos:\n",
    "        c_type: Tipo de gráfico.\n",
    "        c_data: Dados para gerar o gráfico.\n",
    "        c_labels: Rótulos dos dados do gráfico.\n",
    "        c_colors: Array de cores para o gráfico.\n",
    "        c_title: Título do gráfico.\n",
    "    Retorna:\n",
    "        Um gráfico.\n",
    "    \"\"\"\n",
    "    if(c_type == 'pie'):\n",
    "        fig, ax = plt.subplots()\n",
    "        ax.pie(c_data, labels=c_labels, autopct='%1.1f%%', startangle=90, colors=c_colors)\n",
    "        ax.axis('equal')\n",
    "        ax.set_title(c_title, pad=15)\n",
    "        plt.show()\n",
    "    elif(c_type == 'bar'):\n",
    "        index = np.arange(len(c_labels))\n",
    "        plt.bar(index, c_data, align='center', alpha=0.75, color=c_colors)\n",
    "        plt.xlabel(c_x_label)\n",
    "        plt.ylabel(c_y_label)\n",
    "        plt.xticks(index, c_labels)\n",
    "        plt.title(c_title)\n",
    "        plt.show()\n",
    "    else:\n",
    "        return 'Este tipo de gráfico não é suportado. Tente \"bar\" ou \"pie\".'"
   ]
  },
  {
   "cell_type": "markdown",
   "metadata": {},
   "source": [
    "#### 1. Quantos passageiros embarcaram por porto?"
   ]
  },
  {
   "cell_type": "code",
   "execution_count": 196,
   "metadata": {},
   "outputs": [
    {
     "name": "stdout",
     "output_type": "stream",
     "text": [
      "Embarques por porto:\n",
      "\n",
      "Southampton: 116\n",
      "Cherbourg: 65\n",
      "Queenstown: 2\n"
     ]
    }
   ],
   "source": [
    "num_embarked = df['embarked'].value_counts()\n",
    "print('Embarques por porto:\\n\\nSouthampton: {}\\nCherbourg: {}\\nQueenstown: {}'.format(num_embarked[0], num_embarked[1], num_embarked[2]))"
   ]
  },
  {
   "cell_type": "code",
   "execution_count": 197,
   "metadata": {},
   "outputs": [
    {
     "data": {
      "image/png": "[encoded data removed]",
      "text/plain": [
       "<Figure size 432x288 with 1 Axes>"
      ]
     },
     "metadata": {
      "needs_background": "light"
     },
     "output_type": "display_data"
    }
   ],
   "source": [
    "count_cities = num_embarked.values\n",
    "labels = num_embarked.index.values\n",
    "create_chart('bar', count_cities, labels, ['#fbc531', '#e84118', '#1e3799'], 'Número de passageiros por porto de embarque', 'Porto', 'Frequência')"
   ]
  },
  {
   "cell_type": "markdown",
   "metadata": {},
   "source": [
    "Conforme o gráfico acima, pode-se notar que o porto de Southampton na Inglaterra obteve o maior número de embarques seguido de Cherbourg na França e, por fim, Queenstown na Irlanda com apenas 2 embarques registrados."
   ]
  },
  {
   "cell_type": "markdown",
   "metadata": {},
   "source": [
    "#### 2. Quantas pessoas sobreviveram ao naufrágio?"
   ]
  },
  {
   "cell_type": "code",
   "execution_count": 198,
   "metadata": {},
   "outputs": [
    {
     "name": "stdout",
     "output_type": "stream",
     "text": [
      "De 183 pessoas, 123 sobreviveram ao naufrágio e 60 faleceram.\n"
     ]
    }
   ],
   "source": [
    "num_survivors = df[df['survived']=='yes'].count()[0]\n",
    "num_deceased = df.shape[0] - num_survivors\n",
    "print('De {} pessoas, {} sobreviveram ao naufrágio e {} faleceram.'.format(df.shape[0], num_survivors, num_deceased))"
   ]
  },
  {
   "cell_type": "code",
   "execution_count": 199,
   "metadata": {},
   "outputs": [
    {
     "data": {
      "image/png": "[encoded data removed]",
      "text/plain": [
       "<Figure size 432x288 with 1 Axes>"
      ]
     },
     "metadata": {},
     "output_type": "display_data"
    }
   ],
   "source": [
    "num_survivors_deceased = np.array([num_survivors, num_deceased])\n",
    "labels = ['Sobreviventes', 'Mortos']\n",
    "create_chart('pie', num_survivors_deceased, labels, ['#1abc9c', '#e74c3c'], 'Relação entre sobreviventes e mortos do naufrágio', '', '')"
   ]
  },
  {
   "cell_type": "markdown",
   "metadata": {},
   "source": [
    "Conforme o gráfico acima, nota-se que 67.2% dos passageiros sobreviveram ao desastre marítimo e 32.8% faleceram."
   ]
  },
  {
   "cell_type": "markdown",
   "metadata": {},
   "source": [
    "#### 3. Quantos sobreviventes são do sexo masculino? Quantos são do sexo feminino?"
   ]
  },
  {
   "cell_type": "code",
   "execution_count": 200,
   "metadata": {},
   "outputs": [
    {
     "name": "stdout",
     "output_type": "stream",
     "text": [
      "De 123 sobreviventes, 41 são do sexo masculino.\n"
     ]
    }
   ],
   "source": [
    "num_male_survivors = df[(df['survived']=='yes') & (df['sex']=='male')].count()[0]\n",
    "print('De {} sobreviventes, {} são do sexo masculino.'.format(num_survivors, num_male_survivors))"
   ]
  },
  {
   "cell_type": "code",
   "execution_count": 201,
   "metadata": {},
   "outputs": [
    {
     "name": "stdout",
     "output_type": "stream",
     "text": [
      "De 123 sobreviventes, 82 são do sexo feminino.\n"
     ]
    }
   ],
   "source": [
    "num_female_survivors = df[(df['survived']=='yes') & (df['sex']=='female')].count()[0]\n",
    "print('De {} sobreviventes, {} são do sexo feminino.'.format(num_survivors, num_female_survivors))"
   ]
  },
  {
   "cell_type": "code",
   "execution_count": 202,
   "metadata": {},
   "outputs": [
    {
     "data": {
      "image/png": "[encoded data removed]",
      "text/plain": [
       "<Figure size 432x288 with 1 Axes>"
      ]
     },
     "metadata": {},
     "output_type": "display_data"
    }
   ],
   "source": [
    "num_survivors_sex = np.array([num_male_survivors, num_female_survivors])\n",
    "labels = ['Masculino', 'Feminino']\n",
    "create_chart('pie', num_survivors_sex, labels, ['#3498db', '#9b59b6'], 'Sobreviventes por sexo', '', '')"
   ]
  },
  {
   "cell_type": "markdown",
   "metadata": {},
   "source": [
    "Conforme o gráfico acima, nota-se que 66.7% dos sobreviventes são do sexo feminino enquanto 33.3% são do sexo masculino."
   ]
  },
  {
   "cell_type": "markdown",
   "metadata": {},
   "source": [
    "#### 4. Qual a taxa de sobreviventes por status socioeconômico?"
   ]
  },
  {
   "cell_type": "code",
   "execution_count": 203,
   "metadata": {},
   "outputs": [
    {
     "name": "stdout",
     "output_type": "stream",
     "text": [
      "De 123 sobreviventes, 106 são da primeira classe.\n"
     ]
    }
   ],
   "source": [
    "num_first_survivors = df[(df['survived']=='yes') & (df['p_class']==1)].count()[0]\n",
    "print('De {} sobreviventes, {} são da primeira classe.'.format(num_survivors, num_first_survivors))"
   ]
  },
  {
   "cell_type": "code",
   "execution_count": 204,
   "metadata": {},
   "outputs": [
    {
     "name": "stdout",
     "output_type": "stream",
     "text": [
      "De 123 sobreviventes, 12 são da segunda classe.\n"
     ]
    }
   ],
   "source": [
    "num_second_survivors = df[(df['survived']=='yes') & (df['p_class']==2)].count()[0]\n",
    "print('De {} sobreviventes, {} são da segunda classe.'.format(num_survivors, num_second_survivors))"
   ]
  },
  {
   "cell_type": "code",
   "execution_count": 205,
   "metadata": {},
   "outputs": [
    {
     "name": "stdout",
     "output_type": "stream",
     "text": [
      "De 123 sobreviventes, 5 são da terceira classe.\n"
     ]
    }
   ],
   "source": [
    "num_third_survivors = df[(df['survived']=='yes') & (df['p_class']==3)].count()[0]\n",
    "print('De {} sobreviventes, {} são da terceira classe.'.format(num_survivors, num_third_survivors))"
   ]
  },
  {
   "cell_type": "code",
   "execution_count": 206,
   "metadata": {},
   "outputs": [
    {
     "data": {
      "image/png": "[encoded data removed]",
      "text/plain": [
       "<Figure size 432x288 with 1 Axes>"
      ]
     },
     "metadata": {},
     "output_type": "display_data"
    }
   ],
   "source": [
    "num_survivors_class = np.array([num_first_survivors, num_second_survivors, num_third_survivors])\n",
    "labels = ['Primeira classe', 'Segunda classe', 'Terceira classe']\n",
    "create_chart('pie', num_survivors_class, labels, ['#40DDDE', '#7FB8FF', '#875DD9'], 'Sobreviventes por status socioeconômico', '', '')"
   ]
  },
  {
   "cell_type": "markdown",
   "metadata": {},
   "source": [
    "Conforme o gráfico acima, nota-se que 86.2% dos sobreviventes são da terceira classe, 9.8% são da segunda classe e apenas 4.1% são da terceira classe."
   ]
  },
  {
   "cell_type": "markdown",
   "metadata": {},
   "source": [
    "#### 5. Qual era a tarifa mais cara? Qual era a mais barata? Qual era a média de tarifas?"
   ]
  },
  {
   "cell_type": "code",
   "execution_count": 207,
   "metadata": {},
   "outputs": [
    {
     "name": "stdout",
     "output_type": "stream",
     "text": [
      "A taxa mais cara paga foi USD 512.33. A mais barta foi USD 8.05. A média das tarifas foi USD 85.82.\n"
     ]
    }
   ],
   "source": [
    "num_fare_survived = df_survived['fare']\n",
    "max_fare_survived = round(num_fare_survived.max(), 2)\n",
    "min_fare_survived = round(num_fare_survived.min(), 2)\n",
    "mean_fare_survived = round(num_fare_survived.values.mean(), 2)\n",
    "print('A taxa mais cara paga foi USD {}. A mais barta foi USD {}. A média das tarifas foi USD {}.'.format(max_fare_survived, min_fare_survived, mean_fare_survived))"
   ]
  },
  {
   "cell_type": "markdown",
   "metadata": {},
   "source": [
    "#### 6. Qual é a média de idade dos sobreviventes?"
   ]
  },
  {
   "cell_type": "code",
   "execution_count": 208,
   "metadata": {},
   "outputs": [
    {
     "name": "stdout",
     "output_type": "stream",
     "text": [
      "A idade média dos sobreviventes é 32 anos.\n"
     ]
    }
   ],
   "source": [
    "df_survived = df[(df['survived']=='yes')]\n",
    "num_age_survived = df_survived['age']\n",
    "mean_survivor_age = num_age_survived.values.mean()\n",
    "print('A idade média dos sobreviventes é {} anos.'.format(int(mean_survivor_age)))"
   ]
  },
  {
   "cell_type": "markdown",
   "metadata": {},
   "source": [
    "#### 7. Qual o valor médio da tarifa para cada classe?"
   ]
  },
  {
   "cell_type": "code",
   "execution_count": 209,
   "metadata": {},
   "outputs": [
    {
     "name": "stdout",
     "output_type": "stream",
     "text": [
      "Tarifa média por classe:\n",
      "\n",
      "Primeira: USD 88.68\n",
      "Segunda: USD 18.44\n",
      "Terceira: USD 11.03\n"
     ]
    }
   ],
   "source": [
    "df_first = df[df['p_class']==1]\n",
    "first_fare = df_first['fare']\n",
    "mean_first_fare = round(first_fare.values.mean(), 2)\n",
    "\n",
    "df_second = df[df['p_class']==2]\n",
    "second_fare = df_second['fare']\n",
    "mean_second_fare = round(second_fare.values.mean(), 2)\n",
    "\n",
    "df_third = df[df['p_class']==3]\n",
    "third_fare = df_third['fare']\n",
    "mean_third_fare = round(third_fare.values.mean(), 2)\n",
    "\n",
    "print('Tarifa média por classe:\\n\\nPrimeira: USD {}\\nSegunda: USD {}\\nTerceira: USD {}'.format(mean_first_fare, mean_second_fare, mean_third_fare))"
   ]
  },
  {
   "cell_type": "markdown",
   "metadata": {},
   "source": [
    "#### 8. Qual a média de idade das mulheres em cada classe do navio?"
   ]
  },
  {
   "cell_type": "code",
   "execution_count": 210,
   "metadata": {},
   "outputs": [
    {
     "name": "stdout",
     "output_type": "stream",
     "text": [
      "Idade média das mulheres por classe do navio:\n",
      "\n",
      "Primeira: 34\n",
      "Segunda: 29\n",
      "Terceira: 17\n"
     ]
    }
   ],
   "source": [
    "df_women = df[df['sex']=='female']\n",
    "df_women_first = df_women[df_women['p_class']==1]\n",
    "mean_women_first = int(df_women_first['age'].values.mean())\n",
    "\n",
    "df_women_second = df_women[df_women['p_class']==2]\n",
    "mean_women_second = int(df_women_second['age'].values.mean())\n",
    "\n",
    "df_women_third = df_women[df_women['p_class']==3]\n",
    "mean_women_third = int(df_women_third['age'].values.mean())\n",
    "\n",
    "print('Idade média das mulheres por classe do navio:\\n\\nPrimeira: {}\\nSegunda: {}\\nTerceira: {}'.format(mean_women_first, mean_women_second, mean_women_third))"
   ]
  },
  {
   "cell_type": "markdown",
   "metadata": {},
   "source": [
    "#### 9. Qual a média de idade dos homens em cada classe do navio?"
   ]
  },
  {
   "cell_type": "code",
   "execution_count": 211,
   "metadata": {},
   "outputs": [
    {
     "name": "stdout",
     "output_type": "stream",
     "text": [
      "Idade média dos homens por classe do navio:\n",
      "\n",
      "Primeira: 40\n",
      "Segunda: 18\n",
      "Terceira: 24\n"
     ]
    }
   ],
   "source": [
    "df_men = df[df['sex']=='male']\n",
    "df_men_first = df_men[df_men['p_class']==1]\n",
    "mean_men_first = int(df_men_first['age'].values.mean())\n",
    "\n",
    "df_men_second = df_men[df_men['p_class']==2]\n",
    "mean_men_second = int(df_men_second['age'].values.mean())\n",
    "\n",
    "df_men_third = df_men[df_men['p_class']==3]\n",
    "mean_men_third = int(df_men_third['age'].values.mean())\n",
    "\n",
    "print('Idade média dos homens por classe do navio:\\n\\nPrimeira: {}\\nSegunda: {}\\nTerceira: {}'.format(mean_men_first, mean_men_second, mean_men_third))"
   ]
  },
  {
   "cell_type": "markdown",
   "metadata": {},
   "source": [
    "#### 10. Quantos passageiros viajavam desacompanhados de membros da família?"
   ]
  },
  {
   "cell_type": "code",
   "execution_count": 226,
   "metadata": {},
   "outputs": [
    {
     "name": "stdout",
     "output_type": "stream",
     "text": [
      "79 passageiros viajavam desacompanhados de membros da família equanto 104 viajavam acompanhados.\n"
     ]
    }
   ],
   "source": [
    "num_alone = df[df['relatives']==0].count()[0]\n",
    "num_accompanied = df[df['relatives']!=0].count()[0]\n",
    "print('{} passageiros viajavam desacompanhados de membros da família equanto {} viajavam acompanhados.'.format(num_alone, num_accompanied))"
   ]
  },
  {
   "cell_type": "code",
   "execution_count": 227,
   "metadata": {},
   "outputs": [
    {
     "data": {
      "image/png": "[encoded data removed]",
      "text/plain": [
       "<Figure size 432x288 with 1 Axes>"
      ]
     },
     "metadata": {},
     "output_type": "display_data"
    }
   ],
   "source": [
    "num_passengers_relatives = np.array([num_alone, num_accompanied])\n",
    "labels = ['Desacompanhados', 'Acompanhados']\n",
    "create_chart('pie', num_passengers_relatives, labels, ['#2196F3', '#FF9800'], 'Passageiros acompanhados x passageiros desacompanhados', '', '')"
   ]
  },
  {
   "cell_type": "markdown",
   "metadata": {},
   "source": [
    "Conforme o gráfico acima, nota-se que 56.8% dos passageiros viajavam acompanhados de algum membro de sua família enquanto 43.2% viajavam desacompanhados dos mesmos."
   ]
  },
  {
   "cell_type": "markdown",
   "metadata": {},
   "source": [
    "## Conclusão\n",
    "Nota-se que a grande maioria dos sobreviventes são da primeira classe e do sexo feminino. Apenas 4.1% dos sobreviventes são da terceira classe e apenas 33.3% são do sexo masculino. No total, 67.2% dos passageiros sobreviveram ao naufrágio."
   ]
  },
  {
   "cell_type": "markdown",
   "metadata": {},
   "source": [
    "## Limitações\n",
    "Foi possível notar que as colunas \"age\", \"cabin\" e \"embarked\" possuiam valores nulos. Para lidar com esta limitação, as linhas que continham estes valores foram removidas do conjunto de dados para as três colunas mencionadas.\n",
    "\n",
    "As colunas \"sib_sp\" e \"parch\", que indicam o número de irmãos e pai/mãe que viajavam junto com um passageiro foram mescladas na coluna \"relatives\" para manter a consistência numa só coluna que indicasse o número de parentes que viajavam com a pessoa."
   ]
  }
 ],
 "metadata": {
  "kernelspec": {
   "display_name": "Python 3",
   "language": "python",
   "name": "python3"
  },
  "language_info": {
   "codemirror_mode": {
    "name": "ipython",
    "version": 3
   },
   "file_extension": ".py",
   "mimetype": "text/x-python",
   "name": "python",
   "nbconvert_exporter": "python",
   "pygments_lexer": "ipython3",
   "version": "3.7.0"
  }
 },
 "nbformat": 4,
 "nbformat_minor": 2
}
